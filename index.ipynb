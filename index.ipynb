{
 "cells": [
  {
   "cell_type": "markdown",
   "metadata": {},
   "source": [
    "#  Genome clustering characterization via 5-mer abundance vectors\n",
    "\n",
    "You can use `spacegraphcats/utils/chunk-genomes.py` to build 5-mer vectors\n",
    "from known genomes, and this notebook to cluster the genomes.  It also uses\n",
    "sourmash to label the vectors by known genomes."
   ]
  },
  {
   "cell_type": "code",
   "execution_count": 1,
   "metadata": {},
   "outputs": [
    {
     "name": "stdout",
     "output_type": "stream",
     "text": [
      "Cloning into 'spacegraphcats'...\n",
      "remote: Counting objects: 4657, done.\u001b[K\n",
      "remote: Compressing objects: 100% (101/101), done.\u001b[K\n",
      "remote: Total 4657 (delta 144), reused 205 (delta 128), pack-reused 4428\u001b[K\n",
      "Receiving objects: 100% (4657/4657), 35.15 MiB | 22.40 MiB/s, done.\n",
      "Resolving deltas: 100% (3214/3214), done.\n"
     ]
    }
   ],
   "source": [
    "!git clone https://github.com/spacegraphcats/spacegraphcats.git -b mphf"
   ]
  },
  {
   "cell_type": "code",
   "execution_count": 2,
   "metadata": {},
   "outputs": [
    {
     "name": "stdout",
     "output_type": "stream",
     "text": [
      "  % Total    % Received % Xferd  Average Speed   Time    Time     Time  Current\n",
      "                                 Dload  Upload   Total   Spent    Left  Speed\n",
      "100   459  100   459    0     0    459      0  0:00:01 --:--:--  0:00:01  1785\n",
      "100 61.1M  100 61.1M    0     0  15.2M      0  0:00:04  0:00:04 --:--:-- 17.2M\n"
     ]
    }
   ],
   "source": [
    "!curl -L -o podar-genomes.tar.gz https://osf.io/8uxj9/download\n",
    "!tar xzf podar-genomes.tar.gz\n"
   ]
  },
  {
   "cell_type": "code",
   "execution_count": 3,
   "metadata": {},
   "outputs": [
    {
     "name": "stdout",
     "output_type": "stream",
     "text": [
      "setting num_hashes to 0 because --scaled is set\n",
      "computing signatures for files: 0.fa, 1.fa, 10.fa, 11.fa, 12.fa, 13.fa, 14.fa, 15.fa, 16.fa, 17.fa, 18.fa, 19.fa, 2.fa, 20.fa, 21.fa, 22.fa, 23.fa, 24.fa, 25.fa, 26.fa, 27.fa, 28.fa, 29.fa, 3.fa, 30.fa, 31.fa, 32.fa, 33.fa, 34.fa, 35.fa, 36.fa, 37.fa, 38.fa, 39.fa, 4.fa, 40.fa, 41.fa, 42.fa, 43.fa, 44.fa, 45.fa, 46.fa, 47.fa, 48.fa, 49.fa, 5.fa, 50.fa, 51.fa, 52.fa, 53.fa, 54.fa, 55.fa, 56.fa, 57.fa, 58.fa, 59.fa, 6.fa, 60.fa, 61.fa, 62.fa, 63.fa, 7.fa, 8.fa, 9.fa\n",
      "Computing signature for ksizes: [31]\n",
      "Computing only DNA (and not protein) signatures.\n",
      "Computing a total of 1 signatures.\n",
      "... reading sequences from 0.fa\n",
      "\n",
      "calculated 1 signatures for 1 sequences in 0.fa\n",
      "saved 1 signature(s). Note: signature license is CC0.\n",
      "... reading sequences from 1.fa\n",
      "\n",
      "calculated 1 signatures for 1 sequences in 1.fa\n",
      "saved 1 signature(s). Note: signature license is CC0.\n",
      "... reading sequences from 10.fa\n",
      "\n",
      "calculated 1 signatures for 1 sequences in 10.fa\n",
      "saved 1 signature(s). Note: signature license is CC0.\n",
      "... reading sequences from 11.fa\n",
      "\n",
      "calculated 1 signatures for 1 sequences in 11.fa\n",
      "saved 1 signature(s). Note: signature license is CC0.\n",
      "... reading sequences from 12.fa\n",
      "\n",
      "calculated 1 signatures for 1 sequences in 12.fa\n",
      "saved 1 signature(s). Note: signature license is CC0.\n",
      "... reading sequences from 13.fa\n",
      "\n",
      "calculated 1 signatures for 1 sequences in 13.fa\n",
      "saved 1 signature(s). Note: signature license is CC0.\n",
      "... reading sequences from 14.fa\n",
      "\n",
      "calculated 1 signatures for 1 sequences in 14.fa\n",
      "saved 1 signature(s). Note: signature license is CC0.\n",
      "... reading sequences from 15.fa\n",
      "\n",
      "calculated 1 signatures for 1 sequences in 15.fa\n",
      "saved 1 signature(s). Note: signature license is CC0.\n",
      "... reading sequences from 16.fa\n",
      "\n",
      "calculated 1 signatures for 4 sequences in 16.fa\n",
      "saved 1 signature(s). Note: signature license is CC0.\n",
      "... reading sequences from 17.fa\n",
      "\n",
      "calculated 1 signatures for 2 sequences in 17.fa\n",
      "saved 1 signature(s). Note: signature license is CC0.\n",
      "... reading sequences from 18.fa\n",
      "\n",
      "calculated 1 signatures for 1 sequences in 18.fa\n",
      "saved 1 signature(s). Note: signature license is CC0.\n",
      "... reading sequences from 19.fa\n",
      "\n",
      "calculated 1 signatures for 9 sequences in 19.fa\n",
      "saved 1 signature(s). Note: signature license is CC0.\n",
      "... reading sequences from 2.fa\n",
      "\n",
      "calculated 1 signatures for 1 sequences in 2.fa\n",
      "saved 1 signature(s). Note: signature license is CC0.\n",
      "... reading sequences from 20.fa\n",
      "\n",
      "calculated 1 signatures for 1 sequences in 20.fa\n",
      "saved 1 signature(s). Note: signature license is CC0.\n",
      "... reading sequences from 21.fa\n",
      "\n",
      "calculated 1 signatures for 1 sequences in 21.fa\n",
      "saved 1 signature(s). Note: signature license is CC0.\n",
      "... reading sequences from 22.fa\n",
      "\n",
      "calculated 1 signatures for 1 sequences in 22.fa\n",
      "saved 1 signature(s). Note: signature license is CC0.\n",
      "... reading sequences from 23.fa\n",
      "\n",
      "calculated 1 signatures for 5 sequences in 23.fa\n",
      "saved 1 signature(s). Note: signature license is CC0.\n",
      "... reading sequences from 24.fa\n",
      "\n",
      "calculated 1 signatures for 3 sequences in 24.fa\n",
      "saved 1 signature(s). Note: signature license is CC0.\n",
      "... reading sequences from 25.fa\n",
      "\n",
      "calculated 1 signatures for 1 sequences in 25.fa\n",
      "saved 1 signature(s). Note: signature license is CC0.\n",
      "... reading sequences from 26.fa\n",
      "\n",
      "calculated 1 signatures for 1 sequences in 26.fa\n",
      "saved 1 signature(s). Note: signature license is CC0.\n",
      "... reading sequences from 27.fa\n",
      "\n",
      "calculated 1 signatures for 1 sequences in 27.fa\n",
      "saved 1 signature(s). Note: signature license is CC0.\n",
      "... reading sequences from 28.fa\n",
      "\n",
      "calculated 1 signatures for 3 sequences in 28.fa\n",
      "saved 1 signature(s). Note: signature license is CC0.\n",
      "... reading sequences from 29.fa\n",
      "\n",
      "calculated 1 signatures for 1 sequences in 29.fa\n",
      "saved 1 signature(s). Note: signature license is CC0.\n",
      "... reading sequences from 3.fa\n",
      "\n",
      "calculated 1 signatures for 1 sequences in 3.fa\n",
      "saved 1 signature(s). Note: signature license is CC0.\n",
      "... reading sequences from 30.fa\n",
      "\n",
      "calculated 1 signatures for 1 sequences in 30.fa\n",
      "saved 1 signature(s). Note: signature license is CC0.\n",
      "... reading sequences from 31.fa\n",
      "\n",
      "calculated 1 signatures for 1 sequences in 31.fa\n",
      "saved 1 signature(s). Note: signature license is CC0.\n",
      "... reading sequences from 32.fa\n",
      "\n",
      "calculated 1 signatures for 1 sequences in 32.fa\n",
      "saved 1 signature(s). Note: signature license is CC0.\n",
      "... reading sequences from 33.fa\n",
      "\n",
      "calculated 1 signatures for 1 sequences in 33.fa\n",
      "saved 1 signature(s). Note: signature license is CC0.\n",
      "... reading sequences from 34.fa\n",
      "\n",
      "calculated 1 signatures for 1 sequences in 34.fa\n",
      "saved 1 signature(s). Note: signature license is CC0.\n",
      "... reading sequences from 35.fa\n",
      "\n",
      "calculated 1 signatures for 7 sequences in 35.fa\n",
      "saved 1 signature(s). Note: signature license is CC0.\n",
      "... reading sequences from 36.fa\n",
      "\n",
      "calculated 1 signatures for 1 sequences in 36.fa\n",
      "saved 1 signature(s). Note: signature license is CC0.\n",
      "... reading sequences from 37.fa\n",
      "\n",
      "calculated 1 signatures for 1 sequences in 37.fa\n",
      "saved 1 signature(s). Note: signature license is CC0.\n",
      "... reading sequences from 38.fa\n",
      "\n",
      "calculated 1 signatures for 1 sequences in 38.fa\n",
      "saved 1 signature(s). Note: signature license is CC0.\n",
      "... reading sequences from 39.fa\n",
      "\n",
      "calculated 1 signatures for 1 sequences in 39.fa\n",
      "saved 1 signature(s). Note: signature license is CC0.\n",
      "... reading sequences from 4.fa\n",
      "\n",
      "calculated 1 signatures for 1 sequences in 4.fa\n",
      "saved 1 signature(s). Note: signature license is CC0.\n",
      "... reading sequences from 40.fa\n",
      "\n",
      "calculated 1 signatures for 1 sequences in 40.fa\n",
      "saved 1 signature(s). Note: signature license is CC0.\n",
      "... reading sequences from 41.fa\n",
      "\n",
      "calculated 1 signatures for 1 sequences in 41.fa\n",
      "saved 1 signature(s). Note: signature license is CC0.\n",
      "... reading sequences from 42.fa\n",
      "\n",
      "calculated 1 signatures for 1 sequences in 42.fa\n",
      "saved 1 signature(s). Note: signature license is CC0.\n",
      "... reading sequences from 43.fa\n",
      "\n",
      "calculated 1 signatures for 1 sequences in 43.fa\n",
      "saved 1 signature(s). Note: signature license is CC0.\n",
      "... reading sequences from 44.fa\n",
      "\n",
      "calculated 1 signatures for 2 sequences in 44.fa\n",
      "saved 1 signature(s). Note: signature license is CC0.\n",
      "... reading sequences from 45.fa\n",
      "\n",
      "calculated 1 signatures for 1 sequences in 45.fa\n",
      "saved 1 signature(s). Note: signature license is CC0.\n",
      "... reading sequences from 46.fa\n",
      "\n",
      "calculated 1 signatures for 1 sequences in 46.fa\n",
      "saved 1 signature(s). Note: signature license is CC0.\n",
      "... reading sequences from 47.fa\n",
      "\n",
      "calculated 1 signatures for 2 sequences in 47.fa\n",
      "saved 1 signature(s). Note: signature license is CC0.\n",
      "... reading sequences from 48.fa\n",
      "\n",
      "calculated 1 signatures for 1 sequences in 48.fa\n",
      "saved 1 signature(s). Note: signature license is CC0.\n",
      "... reading sequences from 49.fa\n",
      "\n",
      "calculated 1 signatures for 228 sequences in 49.fa\n",
      "saved 1 signature(s). Note: signature license is CC0.\n",
      "... reading sequences from 5.fa\n",
      "\n",
      "calculated 1 signatures for 1 sequences in 5.fa\n",
      "saved 1 signature(s). Note: signature license is CC0.\n",
      "... reading sequences from 50.fa\n",
      "\n",
      "calculated 1 signatures for 1 sequences in 50.fa\n",
      "saved 1 signature(s). Note: signature license is CC0.\n",
      "... reading sequences from 51.fa\n",
      "\n",
      "calculated 1 signatures for 1 sequences in 51.fa\n",
      "saved 1 signature(s). Note: signature license is CC0.\n",
      "... reading sequences from 52.fa\n",
      "\n",
      "calculated 1 signatures for 1 sequences in 52.fa\n",
      "saved 1 signature(s). Note: signature license is CC0.\n",
      "... reading sequences from 53.fa\n",
      "\n",
      "calculated 1 signatures for 1 sequences in 53.fa\n",
      "saved 1 signature(s). Note: signature license is CC0.\n",
      "... reading sequences from 54.fa\n",
      "\n",
      "calculated 1 signatures for 1 sequences in 54.fa\n",
      "saved 1 signature(s). Note: signature license is CC0.\n",
      "... reading sequences from 55.fa\n",
      "\n",
      "calculated 1 signatures for 1 sequences in 55.fa\n",
      "saved 1 signature(s). Note: signature license is CC0.\n",
      "... reading sequences from 56.fa\n",
      "\n",
      "calculated 1 signatures for 1 sequences in 56.fa\n",
      "saved 1 signature(s). Note: signature license is CC0.\n",
      "... reading sequences from 57.fa\n",
      "\n",
      "calculated 1 signatures for 1 sequences in 57.fa\n",
      "saved 1 signature(s). Note: signature license is CC0.\n",
      "... reading sequences from 58.fa\n",
      "\n",
      "calculated 1 signatures for 30 sequences in 58.fa\n",
      "saved 1 signature(s). Note: signature license is CC0.\n",
      "... reading sequences from 59.fa\n"
     ]
    },
    {
     "name": "stdout",
     "output_type": "stream",
     "text": [
      "\n",
      "calculated 1 signatures for 5 sequences in 59.fa\n",
      "saved 1 signature(s). Note: signature license is CC0.\n",
      "... reading sequences from 6.fa\n",
      "\n",
      "calculated 1 signatures for 76 sequences in 6.fa\n",
      "saved 1 signature(s). Note: signature license is CC0.\n",
      "... reading sequences from 60.fa\n",
      "\n",
      "calculated 1 signatures for 11 sequences in 60.fa\n",
      "saved 1 signature(s). Note: signature license is CC0.\n",
      "... reading sequences from 61.fa\n",
      "\n",
      "calculated 1 signatures for 47 sequences in 61.fa\n",
      "saved 1 signature(s). Note: signature license is CC0.\n",
      "... reading sequences from 62.fa\n",
      "\n",
      "calculated 1 signatures for 1 sequences in 62.fa\n",
      "saved 1 signature(s). Note: signature license is CC0.\n",
      "... reading sequences from 63.fa\n",
      "\n",
      "calculated 1 signatures for 4 sequences in 63.fa\n",
      "saved 1 signature(s). Note: signature license is CC0.\n",
      "... reading sequences from 7.fa\n",
      "\n",
      "calculated 1 signatures for 3 sequences in 7.fa\n",
      "saved 1 signature(s). Note: signature license is CC0.\n",
      "... reading sequences from 8.fa\n",
      "\n",
      "calculated 1 signatures for 1 sequences in 8.fa\n",
      "saved 1 signature(s). Note: signature license is CC0.\n",
      "... reading sequences from 9.fa\n",
      "\n",
      "calculated 1 signatures for 3 sequences in 9.fa\n",
      "saved 1 signature(s). Note: signature license is CC0.\n"
     ]
    }
   ],
   "source": [
    "!sourmash compute -k 31 --scaled=1000 *.fa --name-from-first\n",
    "!mkdir podar-ref\n",
    "!mv *.fa *.fa.sig podar-ref"
   ]
  },
  {
   "cell_type": "code",
   "execution_count": 4,
   "metadata": {},
   "outputs": [
    {
     "name": "stdout",
     "output_type": "stream",
     "text": [
      "podar-ref/0.fa\n",
      "podar-ref/1.fa\n",
      "podar-ref/2.fa\n",
      "podar-ref/3.fa\n",
      "podar-ref/4.fa\n",
      "saving matrix of size (1674, 1024) to podar5.vec\n"
     ]
    }
   ],
   "source": [
    "!spacegraphcats/scripts/chunk-genomes-to-vectors.py podar-ref/[01234].fa -o podar5.vec"
   ]
  },
  {
   "cell_type": "code",
   "execution_count": 5,
   "metadata": {},
   "outputs": [
    {
     "name": "stdout",
     "output_type": "stream",
     "text": [
      "loaded data of shape (1674, 1024)\n",
      "standardizing\n",
      "/srv/venv/lib/python3.6/site-packages/sklearn/utils/validation.py:475: DataConversionWarning: Data with input dtype uint16 was converted to float64 by StandardScaler.\n",
      "  warnings.warn(msg, DataConversionWarning)\n",
      "running PCA...\n",
      "done! (1.4s total)\n",
      "running tSNE...\n",
      "done! (47.4s total)\n",
      "running HDBSCAN on tSNE results...\n",
      "done! (0.0s total)\n",
      "got 5 clusters\n",
      "saving PCA, tSNE and HDBSCAN results to 'podar5.vec.cluster'\n"
     ]
    }
   ],
   "source": [
    "!spacegraphcats/scripts/cluster-vectors.py podar5.vec -o podar5.vec.cluster"
   ]
  },
  {
   "cell_type": "code",
   "execution_count": 6,
   "metadata": {},
   "outputs": [],
   "source": [
    "%matplotlib inline\n",
    "import numpy\n",
    "from matplotlib import pyplot\n",
    "import pandas as pd\n",
    "import pickle\n",
    "import itertools\n",
    "import sourmash_lib\n",
    "\n",
    "import numpy as np\n",
    "import matplotlib.pyplot as plt\n",
    "import seaborn as sns\n",
    "import hdbscan\n",
    "from sklearn.manifold import TSNE\n",
    "from sklearn.metrics import confusion_matrix\n",
    "import matplotlib.pyplot as plt\n",
    "import palettable as pal\n",
    "\n",
    "sns.set_context('poster')\n",
    "sns.set_color_codes()\n",
    "plot_kwds = {'alpha' : 0.25, 's' : 80, 'linewidths':0}\n"
   ]
  },
  {
   "cell_type": "code",
   "execution_count": 7,
   "metadata": {},
   "outputs": [],
   "source": [
    "filename = 'podar5.vec'"
   ]
  },
  {
   "cell_type": "markdown",
   "metadata": {},
   "source": [
    "## Load data"
   ]
  },
  {
   "cell_type": "code",
   "execution_count": 8,
   "metadata": {},
   "outputs": [
    {
     "name": "stdout",
     "output_type": "stream",
     "text": [
      "(1674, 1024)\n"
     ]
    }
   ],
   "source": [
    "data = numpy.load(filename)\n",
    "print(data.shape)"
   ]
  },
  {
   "cell_type": "code",
   "execution_count": 9,
   "metadata": {},
   "outputs": [],
   "source": [
    "# load the k=31 MinHashes for identification, and the mapping between node IDs and \n",
    "# data index.\n",
    "node_id_to_group_idx = pickle.load(open(filename + '.node_ids', 'rb'))\n",
    "group_ident = pickle.load(open(filename + '.node_mh', 'rb'))"
   ]
  },
  {
   "cell_type": "markdown",
   "metadata": {},
   "source": [
    "## Assign labels to data based on minhash searching"
   ]
  },
  {
   "cell_type": "code",
   "execution_count": 10,
   "metadata": {},
   "outputs": [
    {
     "name": "stdout",
     "output_type": "stream",
     "text": [
      "loaded 64 sigs\n"
     ]
    }
   ],
   "source": [
    "import glob\n",
    "\n",
    "source_genome_mh = {}\n",
    "genome_mh_name = {}\n",
    "for label, i in enumerate(glob.glob('podar-ref/*.fa.sig')):\n",
    "    ss = sourmash_lib.load_one_signature(i)\n",
    "    source_genome_mh[label] = ss.minhash\n",
    "    genome_mh_name[label] = ss.name()\n",
    "    \n",
    "print('loaded {} sigs'.format(len(source_genome_mh)))"
   ]
  },
  {
   "cell_type": "code",
   "execution_count": 11,
   "metadata": {},
   "outputs": [
    {
     "name": "stdout",
     "output_type": "stream",
     "text": [
      "labeled 1673 nodes, of 1674 (99.9%)\n",
      "found 5 labels total:\n",
      "\t 51.0 CP001941.1 Aciduliprofundum boonei T469, complete genome\n",
      "\t 52.0 AE015928.1 Bacteroides thetaiotaomicron VPI-5482, complete genome\n",
      "\t 56.0 CP001071.1 Akkermansia muciniphila ATCC BAA-835, complete genome\n",
      "\t 26.0 CP001472.1 Acidobacterium capsulatum ATCC 51196, complete genome\n",
      "\t 30.0 AE000782.1 Archaeoglobus fulgidus DSM 4304, complete genome\n"
     ]
    }
   ],
   "source": [
    "# build a 'label' array and then fill it in by asking which nodes -> which minhashes\n",
    "label_arr = np.zeros(max(node_id_to_group_idx.values()) + 1)\n",
    "\n",
    "# label node bins that are least 90% contained by exactly one minhash\n",
    "MIN_CONTAINMENT=0.9\n",
    "labeled_bins = 0\n",
    "for node_id, vec_mh in group_ident.items():\n",
    "    n_found = 0\n",
    "    found_label = None\n",
    "\n",
    "    for label, genome_mh in source_genome_mh.items():\n",
    "        if vec_mh and vec_mh.contained_by(genome_mh) > 0.9:\n",
    "            found_label = label\n",
    "            n_found += 1\n",
    "            \n",
    "    if n_found == 1:\n",
    "        assert found_label != None\n",
    "        idx = node_id_to_group_idx[node_id]\n",
    "        label_arr[idx] = found_label + 1\n",
    "        labeled_bins += 1\n",
    "\n",
    "print('labeled {} nodes, of {} ({:.1f}%)'.format(labeled_bins,\n",
    "                                                len(group_ident),\n",
    "                                                labeled_bins / len(group_ident) * 100))\n",
    "print('found {} labels total:'.format(len(set(label_arr)) - 1))\n",
    "\n",
    "for label in set(label_arr):\n",
    "    if label:\n",
    "        label_name = genome_mh_name[label-1]\n",
    "        print('\\t', label, label_name)"
   ]
  },
  {
   "cell_type": "code",
   "execution_count": 12,
   "metadata": {},
   "outputs": [
    {
     "name": "stdout",
     "output_type": "stream",
     "text": [
      "compacting labels\n",
      "0.0 5.0\n"
     ]
    }
   ],
   "source": [
    "print('compacting labels')\n",
    "label_mapping = {}\n",
    "new_label_n = 1\n",
    "for label in set(label_arr):\n",
    "    if label:\n",
    "        label_mapping[label] = new_label_n\n",
    "        new_label_n += 1\n",
    "        \n",
    "for idx in range(len(label_arr)):\n",
    "    if label_arr[idx]:\n",
    "        label_arr[idx] = label_mapping[label_arr[idx]]\n",
    "        \n",
    "print(min(label_arr), max(label_arr))"
   ]
  },
  {
   "cell_type": "code",
   "execution_count": 13,
   "metadata": {},
   "outputs": [
    {
     "name": "stdout",
     "output_type": "stream",
     "text": [
      "1674 1674 6\n",
      "{(1.0, 0.7686274509803922, 0.0), (0.0, 0.8431372549019608, 1.0), (0.9098039215686274, 0.0, 0.043137254901960784), (0.5411764705882353, 0.16862745098039217, 0.8862745098039215), (0.011764705882352941, 0.9294117647058824, 0.22745098039215686), (1, 1, 1)}\n"
     ]
    }
   ],
   "source": [
    "# build a color palette for the labels; make unlabeled 'white'.\n",
    "palette = sns.color_palette('bright', new_label_n + 1)\n",
    "palette[0] = (1,1,1)\n",
    "\n",
    "colors = [palette[int(x)] for x in label_arr ]\n",
    "print(len(colors), len(label_arr), new_label_n)\n",
    "print(set(colors))"
   ]
  },
  {
   "cell_type": "markdown",
   "metadata": {},
   "source": [
    "## Load a PCA, tSNE, and hdbscan clustering\n",
    "\n",
    "crreated outside the notebook with `scripts/cluster-vectors.py`"
   ]
  },
  {
   "cell_type": "code",
   "execution_count": 14,
   "metadata": {},
   "outputs": [],
   "source": [
    "(data_pca, t, h) = pickle.load(open(filename + '.cluster', 'rb'))"
   ]
  },
  {
   "cell_type": "markdown",
   "metadata": {},
   "source": [
    "## Plot PCA and tSNE clusters with predicted labels\n",
    "\n",
    "Here, labels are predicted against the known ground truth using sourmash (see assign labels, above)"
   ]
  },
  {
   "cell_type": "code",
   "execution_count": 15,
   "metadata": {},
   "outputs": [
    {
     "data": {
      "text/plain": [
       "<matplotlib.collections.PathCollection at 0x7fdd36ae5e48>"
      ]
     },
     "execution_count": 15,
     "metadata": {},
     "output_type": "execute_result"
    },
    {
     "data": {
      "image/png": "[encoded data removed]",
      "text/plain": [
       "<matplotlib.figure.Figure at 0x7fdd36b47748>"
      ]
     },
     "metadata": {},
     "output_type": "display_data"
    }
   ],
   "source": [
    "pca_df = pd.DataFrame(data_pca)\n",
    "pyplot.scatter(pca_df[0], pca_df[1], c=colors)"
   ]
  },
  {
   "cell_type": "code",
   "execution_count": 16,
   "metadata": {},
   "outputs": [
    {
     "name": "stdout",
     "output_type": "stream",
     "text": [
      "1674\n"
     ]
    },
    {
     "data": {
      "image/png": "[encoded data removed]",
      "text/plain": [
       "<matplotlib.figure.Figure at 0x7fdd36b47320>"
      ]
     },
     "metadata": {},
     "output_type": "display_data"
    }
   ],
   "source": [
    "df = pd.DataFrame(t)\n",
    "df.columns=['t1','t2']\n",
    "pyplot.scatter(df.t1, df.t2, c=colors)\n",
    "\n",
    "#pyplot.savefig('/tmp/twofoo.cluster.png')\n",
    "print(len(t))"
   ]
  },
  {
   "cell_type": "code",
   "execution_count": 17,
   "metadata": {},
   "outputs": [
    {
     "name": "stdout",
     "output_type": "stream",
     "text": [
      "hdbscan produced 5 clusters\n"
     ]
    }
   ],
   "source": [
    "print('hdbscan produced {} clusters'.format(max(h) + 1))"
   ]
  },
  {
   "cell_type": "markdown",
   "metadata": {},
   "source": [
    "## Build a confusion matrix with known good labels vs clusters\n",
    "\n",
    "This is a way to evaluate the de novo clustering vs labeling.\n",
    "\n",
    "Swiped from [here](http://scikit-learn.org/stable/auto_examples/model_selection/plot_confusion_matrix.html)"
   ]
  },
  {
   "cell_type": "code",
   "execution_count": 18,
   "metadata": {},
   "outputs": [],
   "source": [
    "# note, for palette/display reasons labels are 0 if unlabeled in label_arr;\n",
    "# for the confusion matrix, and to match the output of the clustering alg,\n",
    "# we need to set the values to -1 if unlabeled.\n",
    "label_arr2 = numpy.array(label_arr)\n",
    "for i in range(len(label_arr2)):\n",
    "    if label_arr2[i] == 0:\n",
    "        label_arr2[i] = -1\n",
    "\n",
    "cnf = confusion_matrix(label_arr2, h)"
   ]
  },
  {
   "cell_type": "code",
   "execution_count": 19,
   "metadata": {},
   "outputs": [],
   "source": [
    "def plot_confusion_matrix(cm,\n",
    "                          normalize=False,\n",
    "                          title='Confusion matrix',\n",
    "                          cmap=plt.cm.Blues):\n",
    "    \"\"\"\n",
    "    This function prints and plots the confusion matrix.\n",
    "    Normalization can be applied by setting `normalize=True`.\n",
    "    \"\"\"\n",
    "    if normalize:\n",
    "        cm = cm.astype('float') / cm.sum(axis=1)[:, np.newaxis]\n",
    "        print(\"Normalized confusion matrix\")\n",
    "    else:\n",
    "        print('Confusion matrix, without normalization')\n",
    "\n",
    "    print(cm)\n",
    "\n",
    "    plt.imshow(cm, interpolation='nearest', cmap=cmap)\n",
    "    plt.title(title)\n",
    "    plt.colorbar()\n",
    "#    tick_marks = np.arange(len(classes))\n",
    "#    plt.xticks(tick_marks, classes, rotation=45)\n",
    "#    plt.yticks(tick_marks, classes)\n",
    "\n",
    "    fmt = '.2f' if normalize else 'd'\n",
    "    thresh = cm.max() / 2.\n",
    "    for i, j in itertools.product(range(cm.shape[0]), range(cm.shape[1])):\n",
    "        plt.text(j, i, format(cm[i, j], fmt),\n",
    "                 horizontalalignment=\"center\",\n",
    "                 color=\"white\" if cm[i, j] > thresh else \"black\")\n",
    "\n",
    "    plt.tight_layout()\n",
    "    plt.ylabel('True label')\n",
    "    plt.xlabel('Predicted label')"
   ]
  },
  {
   "cell_type": "markdown",
   "metadata": {},
   "source": [
    "### Interpreting the confusion matrix\n",
    "\n",
    "Here, we are looking for large blocks, single ones per rows/columns. Where there are multiple blocks in a single column, that indicates clusters that have been merged in the prediction. (For the twofoo data set, for example, this will happen with the strain variants that cannot be separated. That's to be expected.)\n",
    "\n",
    "CTB does not understand why there is a true label '0' and not a true label '1'."
   ]
  },
  {
   "cell_type": "code",
   "execution_count": 20,
   "metadata": {},
   "outputs": [
    {
     "name": "stdout",
     "output_type": "stream",
     "text": [
      "Confusion matrix, without normalization\n",
      "[[  0   0   0   0   1   0   0]\n",
      " [  0   0   0   0   0   0   0]\n",
      " [  0   0 149   0   0   0   0]\n",
      " [  0   1   0   0   0 625   0]\n",
      " [  0   0   0   0 265   2   0]\n",
      " [  0 413   0   0   0   0   0]\n",
      " [  0   0   0 218   0   0   0]]\n"
     ]
    },
    {
     "data": {
      "image/png": "[encoded data removed]",
      "text/plain": [
       "<matplotlib.figure.Figure at 0x7fdd34a61518>"
      ]
     },
     "metadata": {},
     "output_type": "display_data"
    }
   ],
   "source": [
    "plot_confusion_matrix(cnf)"
   ]
  },
  {
   "cell_type": "code",
   "execution_count": null,
   "metadata": {},
   "outputs": [],
   "source": []
  }
 ],
 "metadata": {
  "kernelspec": {
   "display_name": "Python 3",
   "language": "python",
   "name": "python3"
  },
  "language_info": {
   "codemirror_mode": {
    "name": "ipython",
    "version": 3
   },
   "file_extension": ".py",
   "mimetype": "text/x-python",
   "name": "python",
   "nbconvert_exporter": "python",
   "pygments_lexer": "ipython3",
   "version": "3.6.3"
  }
 },
 "nbformat": 4,
 "nbformat_minor": 2
}
